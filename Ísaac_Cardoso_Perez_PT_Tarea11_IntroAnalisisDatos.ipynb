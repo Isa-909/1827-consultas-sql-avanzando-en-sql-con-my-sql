{
  "nbformat": 4,
  "nbformat_minor": 0,
  "metadata": {
    "colab": {
      "provenance": [],
      "authorship_tag": "ABX9TyNoM8Ix68xnyy0g5McSvwIX",
      "include_colab_link": true
    },
    "kernelspec": {
      "name": "python3",
      "display_name": "Python 3"
    },
    "language_info": {
      "name": "python"
    }
  },
  "cells": [
    {
      "cell_type": "markdown",
      "metadata": {
        "id": "view-in-github",
        "colab_type": "text"
      },
      "source": [
        "<a href=\"https://colab.research.google.com/github/Isa-909/1827-consultas-sql-avanzando-en-sql-con-my-sql/blob/main/%C3%8Dsaac_Cardoso_Perez_PT_Tarea11_IntroAnalisisDatos.ipynb\" target=\"_parent\"><img src=\"https://colab.research.google.com/assets/colab-badge.svg\" alt=\"Open In Colab\"/></a>"
      ]
    },
    {
      "cell_type": "markdown",
      "source": [
        "# 📘 Clase 11: Introducción al Análisis de Datos y el Papel del Analista con Python\n",
        "\n",
        "### 📅 Fecha de entrega: 19/04/2025\n",
        "\n",
        "### 🧑‍🎓 Nombre del estudiante: Isaac Cardoso Perez"
      ],
      "metadata": {
        "id": "R_AgCPnR8uKv"
      }
    },
    {
      "cell_type": "markdown",
      "source": [
        "## 🎯 **Objetivo de la tarea**\n",
        "Reflexionar sobre los conceptos fundamentales del análisis de datos, el rol del analista de datos en las organizaciones, y el uso de Python como herramienta clave en este proceso."
      ],
      "metadata": {
        "id": "pbPYYCnu9KrT"
      }
    },
    {
      "cell_type": "markdown",
      "source": [
        "## 📋 **Instrucciones**"
      ],
      "metadata": {
        "id": "vTNmqhf_9RbH"
      }
    },
    {
      "cell_type": "markdown",
      "source": [
        "1. Lee con atención el contenido de la clase.\n",
        "2. Responde a cada una de las preguntas desarrollando tus ideas de forma clara y completa.\n",
        "3. Puedes complementar con ejemplos o reflexiones propias.\n"
      ],
      "metadata": {
        "id": "9KE_0RR-9YDo"
      }
    },
    {
      "cell_type": "markdown",
      "source": [
        "## **Ejercicio 1: Fundamentos del análisis de datos**\n",
        "\n",
        "1. ¿Qué es el análisis de datos y por qué se considera fundamental en la actualidad?\n",
        "\n",
        "\n",
        "2. Menciona al menos tres industrias en las que el análisis de datos tiene un impacto significativo y explica brevemente cómo se utiliza en cada una.\n",
        "\n",
        "\n",
        "3. Imagina que trabajas para una empresa de comercio electrónico. ¿Cómo aplicarías el análisis de datos para mejorar la toma de decisiones estratégicas?"
      ],
      "metadata": {
        "id": "zIE5BGYI-nhP"
      }
    },
    {
      "cell_type": "code",
      "source": [
        "print(\"=== EJERCICIO 1 ===\")\n",
        "print(analisis_datos)\n",
        "print(\"\\nIndustrias clave:\")\n",
        "for industria, aplicacion in industrias.items():\n",
        "    print(f\"- {industria}: {aplicacion}\")\n",
        "\n",
        "print(\"\\nEstrategias para e-commerce:\")\n",
        "for estrategia in analisis_ecommerce():\n",
        "    print(f\"- {estrategia}\")\n"
      ],
      "metadata": {
        "id": "ECmvQ7-h9KUh",
        "outputId": "38a86216-1e2e-491b-db23-993b55447839",
        "colab": {
          "base_uri": "https://localhost:8080/"
        }
      },
      "execution_count": null,
      "outputs": [
        {
          "output_type": "stream",
          "name": "stdout",
          "text": [
            "=== EJERCICIO 1 ===\n",
            "\n",
            "El análisis de datos es el proceso de examinar, limpiar, transformar y modelar datos para extraer información útil. \n",
            "Es fundamental porque permite:\n",
            "- Toma de decisiones basada en evidencia.\n",
            "- Optimización de procesos empresariales.\n",
            "- Predicción de tendencias y comportamientos.\n",
            "\n",
            "\n",
            "Industrias clave:\n",
            "- Salud: Diagnósticos predictivos, gestión hospitalaria.\n",
            "- Retail: Optimización de inventarios, marketing personalizado.\n",
            "- Banca: Detección de fraudes, evaluación de riesgos.\n",
            "\n",
            "Estrategias para e-commerce:\n",
            "- Recomendaciones personalizadas basadas en historial\n",
            "- Optimización de precios mediante análisis de demanda\n",
            "- Reducción de abandono de carritos con estrategias data-driven\n"
          ]
        }
      ]
    },
    {
      "cell_type": "markdown",
      "source": [
        "## **Ejercicio 2: El rol del analista de datos**\n",
        "\n",
        "1. Describe al menos cinco responsabilidades clave de un analista de datos.\n",
        "\n",
        "\n",
        "2. ¿Por qué es importante la etapa de limpieza y transformación de los datos?\n",
        "\n",
        "\n",
        "3. ¿Qué habilidades (técnicas y blandas) consideras esenciales para un analista de datos exitoso?"
      ],
      "metadata": {
        "id": "TPcS3pU0-py-"
      }
    },
    {
      "cell_type": "code",
      "source": [
        "print(\"\\n=== EJERCICIO 2 ===\")\n",
        "print(\"Responsabilidades del analista:\")\n",
        "for responsabilidad in responsabilidades:\n",
        "    print(f\"- {responsabilidad}\")\n",
        "\n",
        "print(\"\\nImportancia de limpieza de datos:\")\n",
        "for razon in importancia_limpieza():\n",
        "    print(f\"- {razon}\")\n",
        "\n",
        "print(\"\\nHabilidades requeridas:\")\n",
        "for tipo, lista_habilidades in habilidades.items():\n",
        "    print(f\"{tipo}: {', '.join(lista_habilidades)}\")\n"
      ],
      "metadata": {
        "id": "toVxPDEm8rk6",
        "outputId": "42395d56-1392-48f7-e963-190d371a5451",
        "colab": {
          "base_uri": "https://localhost:8080/"
        }
      },
      "execution_count": null,
      "outputs": [
        {
          "output_type": "stream",
          "name": "stdout",
          "text": [
            "\n",
            "=== EJERCICIO 2 ===\n",
            "Responsabilidades del analista:\n",
            "- Recopilación y limpieza de datos\n",
            "- Identificación de patrones y tendencias\n",
            "- Creación de visualizaciones y dashboards\n",
            "- Presentación de hallazgos a equipos no técnicos\n",
            "- Colaboración interdepartamental para resolver problemas\n",
            "\n",
            "Importancia de limpieza de datos:\n",
            "- Elimina valores faltantes y duplicados\n",
            "- Garantiza la calidad y consistencia de los datos\n",
            "- Evita conclusiones erróneas en el análisis\n",
            "\n",
            "Habilidades requeridas:\n",
            "Técnicas: Python, SQL, Pandas, Visualización\n",
            "Blandas: Comunicación, Pensamiento crítico, Curiosidad\n"
          ]
        }
      ]
    },
    {
      "cell_type": "markdown",
      "source": [
        "## **Ejercicio 3: Python como herramienta para el análisis de datos**\n",
        "\n",
        "1. Menciona y explica tres ventajas de utilizar Python para el análisis de datos.\n",
        "\n",
        "\n",
        "2. ¿Qué bibliotecas de Python se destacan en este campo y qué funciones permiten realizar?\n",
        "\n",
        "\n",
        "3. ¿Por qué crees que la comunidad activa de Python representa una ventaja para quienes trabajan en análisis de datos?\n"
      ],
      "metadata": {
        "id": "_6gX7eKB-skP"
      }
    },
    {
      "cell_type": "code",
      "execution_count": null,
      "metadata": {
        "id": "ERuTcTab5ggx",
        "outputId": "14790119-d292-4839-c09d-c05d868dcb22",
        "colab": {
          "base_uri": "https://localhost:8080/"
        }
      },
      "outputs": [
        {
          "output_type": "stream",
          "name": "stdout",
          "text": [
            "\n",
            "=== EJERCICIO 3 ===\n",
            "Ventajas de Python:\n",
            "- Sintaxis clara y fácil de aprender\n",
            "- Amplio ecosistema de bibliotecas especializadas\n",
            "- Versatilidad (desde análisis básico hasta ML)\n",
            "\n",
            "Librerías principales:\n",
            "- Pandas: Manipulación de datos estructurados\n",
            "- NumPy: Cálculos numéricos eficientes\n",
            "- Matplotlib/Seaborn: Visualización de datos\n",
            "\n",
            "Ventaja de la comunidad:\n",
            "\n",
            "La comunidad activa de Python ofrece:\n",
            "- Soporte constante para resolver problemas\n",
            "- Tutoriales y documentación actualizada\n",
            "- Desarrollo continuo de nuevas herramientas\n",
            "\n"
          ]
        }
      ],
      "source": [
        "print(\"\\n=== EJERCICIO 3 ===\")\n",
        "print(\"Ventajas de Python:\")\n",
        "for ventaja in ventajas_python:\n",
        "    print(f\"- {ventaja}\")\n",
        "\n",
        "print(\"\\nLibrerías principales:\")\n",
        "for lib, funcionalidad in librerias.items():\n",
        "    print(f\"- {lib}: {funcionalidad}\")\n",
        "\n",
        "print(\"\\nVentaja de la comunidad:\")\n",
        "print(comunidad)\n",
        "\n",
        "\n"
      ]
    },
    {
      "cell_type": "markdown",
      "source": [
        "## ✅ **Conclusión**\n",
        "\n",
        "Resume en tus propias palabras cómo se relacionan el análisis de datos, el rol del analista y el uso de Python. ¿Qué es lo que más te llamó la atención de esta clase?"
      ],
      "metadata": {
        "id": "YFwxVOux-8km"
      }
    },
    {
      "cell_type": "code",
      "source": [
        "def conclusion():\n",
        "    return \"\"\"\n",
        "El análisis de datos transforma información en decisiones estratégicas, donde el analista\n",
        "actúa como puente entre los datos y las necesidades empresariales. Python destaca por su\n",
        "versatilidad y ecosistema de herramientas. Lo más destacado es ver su aplicación transversal\n",
        "en múltiples industrias.\n",
        "\"\"\"\n",
        "\n",
        "# Impresión de resultados\n",
        "\n",
        "print(\"\\n=== CONCLUSIÓN ===\")\n",
        "print(conclusion())"
      ],
      "metadata": {
        "id": "XGNlxuR4UN8T",
        "outputId": "2a0f1e3b-be60-4873-d66f-7d28aa249a32",
        "colab": {
          "base_uri": "https://localhost:8080/"
        }
      },
      "execution_count": null,
      "outputs": [
        {
          "output_type": "stream",
          "name": "stdout",
          "text": [
            "\n",
            "=== CONCLUSIÓN ===\n",
            "\n",
            "El análisis de datos transforma información en decisiones estratégicas, donde el analista\n",
            "actúa como puente entre los datos y las necesidades empresariales. Python destaca por su\n",
            "versatilidad y ecosistema de herramientas. Lo más destacado es ver su aplicación transversal\n",
            "en múltiples industrias.\n",
            "\n"
          ]
        }
      ]
    }
  ]
}